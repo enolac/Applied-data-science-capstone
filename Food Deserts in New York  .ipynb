{
 "cells": [
  {
   "cell_type": "markdown",
   "metadata": {},
   "source": [
    "# FOOD ACCESS IN NEW YORK BOROUGHS"
   ]
  },
  {
   "cell_type": "markdown",
   "metadata": {},
   "source": [
    "***\n",
    "# **Introduction**\n",
    "***"
   ]
  },
  {
   "cell_type": "markdown",
   "metadata": {},
   "source": [
    "Access to healthy foods is an esseantial part of sustaining a quality of life. Healthy People 2030 has identified food insecurity as a contributor to economic instability and an increased risk for a variety of negative health outcomes and health disparities. Several factors contribute to food insecurity however for the purpose of this project, the focus will be on food deserts. Food deserts will be defined as neighborhoods with limited accessibility to sources of healthy food, as measured by distance to a store or by the number of stores in the area.\n",
    "\n",
    "Currently the access to healthy foods is even more difficult as a result of the Covid-19 pandemic. During the pandemic, grocers have cut back their operating hours, raised prices, and have limited inventory. Public transportation has been reduced, and riders who once traveled to stores in other neighborhoods or cities can no longer do so. Some older or higher-risk populations are fearful of traveling during the pandemic.\n",
    "\n",
    "Limited access to supermarkets, supercenters, grocery stores, or other sources of healthy and affordable food may make it harder for some Americans to eat a healthy diet. This project will assess supermarkets and/or grocery stores wihin neighborhoods in New York boroughs based on the volume and distance from the neighborhood center. It will also assess the proportion of the population that lives more than a mile from the nearest supermarket or grocery store, or 10 miles away in rural areas. \n",
    "\n",
    "More information about Healthy People 2030 can be found <a href=\"https://health.gov/healthypeople/objectives-and-data/social-determinants-health\" target=\"_blank\">Healthy People 2030: Social Determinants of Health</a>.\n"
   ]
  },
  {
   "cell_type": "markdown",
   "metadata": {},
   "source": [
    "***\n",
    "## **Problem**\n",
    "***"
   ]
  },
  {
   "cell_type": "markdown",
   "metadata": {},
   "source": [
    "Food deserts can be described as geographic areas where residents’ access to affordable, healthy food options (especially fresh fruits and vegetables) is restricted or nonexistent due to the absence of grocery stores within convenient traveling distance. In urban areas, access to public transportation may help residents overcome the difficulties posed by distance, but economic forces have driven grocery stores out of many cities in recent years, making them so few and far between that an individual’s food shopping trip may require taking several buses or trains. In suburban and rural areas, public transportation is either very limited or unavailable, with supermarkets often many miles away from people’s homes.\n",
    "\n",
    "Expanding the availability of nutritious and affordable food by developing and equipping grocery stores, small retailers, corner markets and farmers’ markets in communities with limited access is an important part of the Healthy Food Financing Initiative by the U.S. Department of Agriculture. This initiative is in direct response to the specific Health People 2030 objective \"Reduce household food insecurity and hunger  — NWS‑01\".\n",
    "\n",
    "The first step in determining whether or not additional healthy food options are needed in the neighborhoods in New York boroughs is to assess the current volume of food sources in the various boroughs as well as the distance from the neighborhood center. Using this information, a decision can be made on where the additional food sources are needed."
   ]
  },
  {
   "cell_type": "markdown",
   "metadata": {},
   "source": [
    "***\n",
    "## **Data**\n",
    "***"
   ]
  },
  {
   "cell_type": "markdown",
   "metadata": {},
   "source": [
    "> * **Part 1: New York Neighborhoods and Boroughs** -\n",
    "We will use geo-locational information about that specific a borough in New York and the neighborhoods in that borough. We specifically and technically mean the latitude and longitude numbers of that borough. We assume that all data returned in reflect data in the specificed borough. The Postal Codes that fall into those boroughs would also be sufficient to use. The neighborhoods inside of the boroughs of New York will be identified by their corresponding Postal Codes."
   ]
  },
  {
   "cell_type": "markdown",
   "metadata": {},
   "source": [
    "> * **Part 2: Food Access in New York Neighborhoods** - Data about supermarkets and grocery stores in different neighborhoods of the specific boroughs of interest will be used. In order to gain that information \"Foursquare\" locational information will be used. Basic and adnvanced information about each hospital will be obtained. For example there is a supermarket in one of the neighborhoods. As basic information, the precise latitude and longitude of the supermarket and also its distance from the center of the neighborhood will be obtained. Advanced information such as whether this supermarekt is a popular one in its category. A typical request from Foursquare will provide us with the following information:\n",
    "    >    [Postal Code] [Neighborhood(s)] [Neighborhood Latitude] [Neighborhood Longitude] [Venue] [Venue Summary] [Venue  Category] [Distance (meter)]"
   ]
  }
 ],
 "metadata": {
  "kernelspec": {
   "display_name": "Python",
   "language": "python",
   "name": "conda-env-python-py"
  },
  "language_info": {
   "codemirror_mode": {
    "name": "ipython",
    "version": 3
   },
   "file_extension": ".py",
   "mimetype": "text/x-python",
   "name": "python",
   "nbconvert_exporter": "python",
   "pygments_lexer": "ipython3",
   "version": "3.6.11"
  }
 },
 "nbformat": 4,
 "nbformat_minor": 4
}
